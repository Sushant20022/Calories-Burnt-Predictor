{
 "cells": [
  {
   "cell_type": "code",
   "execution_count": null,
   "metadata": {},
   "outputs": [],
   "source": [
    "#Plotting variation in Predicted and Actual Values\n",
    "import matplotlib.pyplot as plt\n",
    "aY = range(10)\n",
    "Y_Test_plot=Y_test[:10]\n",
    "Predictor_plot=predictor[:10]\n",
    "# Plotting variation in Predicted and Actual Values\n",
    "plt.figure(figsize=(8, 5))\n",
    "plt.plot(aY, Predictor_plot, marker='o', linestyle='-', color='b', label='Predicted Values')  # Line 1\n",
    "plt.plot(aY, Y_Test_plot, marker='s', linestyle='--', color='r', label='Actual Values')  # Line 2\n",
    "\n",
    "\n",
    "plt.xlabel('Index')\n",
    "plt.ylabel('Values')\n",
    "plt.title('Variation in Predicted and Actual Values')\n",
    "plt.legend()\n",
    "plt.tight_layout()\n",
    "\n",
    "plt.show()"
   ]
  }
 ],
 "metadata": {
  "language_info": {
   "name": "python"
  }
 },
 "nbformat": 4,
 "nbformat_minor": 2
}
