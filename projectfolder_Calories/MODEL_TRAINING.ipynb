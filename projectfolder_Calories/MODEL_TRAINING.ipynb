{
 "cells": [
  {
   "cell_type": "code",
   "execution_count": 16,
   "metadata": {},
   "outputs": [],
   "source": [
    "# Basic Import\n",
    "import numpy as np\n",
    "import pandas as pd\n",
    "import matplotlib.pyplot as plt \n",
    "import seaborn as sns\n",
    "\n",
    "# Modelling\n",
    "from sklearn.metrics import mean_squared_error, r2_score\n",
    "from sklearn.neighbors import KNeighborsRegressor\n",
    "from sklearn.tree import DecisionTreeRegressor\n",
    "from sklearn.ensemble import RandomForestRegressor,AdaBoostRegressor\n",
    "from sklearn.svm import SVR\n",
    "from sklearn.linear_model import LinearRegression, Ridge,Lasso\n",
    "from sklearn.metrics import r2_score, mean_absolute_error, mean_squared_error,accuracy_score\n",
    "from sklearn.preprocessing import StandardScaler,OneHotEncoder\n",
    "from sklearn.compose import ColumnTransformer\n",
    "from xgboost import XGBRegressor\n",
    "from sklearn.model_selection import train_test_split\n",
    "import warnings"
   ]
  },
  {
   "cell_type": "markdown",
   "metadata": {},
   "source": [
    "### Reading the Dataset from the Location\n"
   ]
  },
  {
   "cell_type": "code",
   "execution_count": 17,
   "metadata": {},
   "outputs": [
    {
     "data": {
      "text/html": [
       "<div>\n",
       "<style scoped>\n",
       "    .dataframe tbody tr th:only-of-type {\n",
       "        vertical-align: middle;\n",
       "    }\n",
       "\n",
       "    .dataframe tbody tr th {\n",
       "        vertical-align: top;\n",
       "    }\n",
       "\n",
       "    .dataframe thead th {\n",
       "        text-align: right;\n",
       "    }\n",
       "</style>\n",
       "<table border=\"1\" class=\"dataframe\">\n",
       "  <thead>\n",
       "    <tr style=\"text-align: right;\">\n",
       "      <th></th>\n",
       "      <th>User_ID</th>\n",
       "      <th>Gender</th>\n",
       "      <th>Age</th>\n",
       "      <th>Height</th>\n",
       "      <th>Weight</th>\n",
       "      <th>Duration</th>\n",
       "      <th>Heart_Rate</th>\n",
       "      <th>Body_Temp</th>\n",
       "      <th>Calories</th>\n",
       "    </tr>\n",
       "  </thead>\n",
       "  <tbody>\n",
       "    <tr>\n",
       "      <th>0</th>\n",
       "      <td>14733363</td>\n",
       "      <td>male</td>\n",
       "      <td>68</td>\n",
       "      <td>190.0</td>\n",
       "      <td>94.0</td>\n",
       "      <td>29.0</td>\n",
       "      <td>105.0</td>\n",
       "      <td>40.8</td>\n",
       "      <td>231.0</td>\n",
       "    </tr>\n",
       "    <tr>\n",
       "      <th>1</th>\n",
       "      <td>14861698</td>\n",
       "      <td>female</td>\n",
       "      <td>20</td>\n",
       "      <td>166.0</td>\n",
       "      <td>60.0</td>\n",
       "      <td>14.0</td>\n",
       "      <td>94.0</td>\n",
       "      <td>40.3</td>\n",
       "      <td>66.0</td>\n",
       "    </tr>\n",
       "    <tr>\n",
       "      <th>2</th>\n",
       "      <td>11179863</td>\n",
       "      <td>male</td>\n",
       "      <td>69</td>\n",
       "      <td>179.0</td>\n",
       "      <td>79.0</td>\n",
       "      <td>5.0</td>\n",
       "      <td>88.0</td>\n",
       "      <td>38.7</td>\n",
       "      <td>26.0</td>\n",
       "    </tr>\n",
       "    <tr>\n",
       "      <th>3</th>\n",
       "      <td>16180408</td>\n",
       "      <td>female</td>\n",
       "      <td>34</td>\n",
       "      <td>179.0</td>\n",
       "      <td>71.0</td>\n",
       "      <td>13.0</td>\n",
       "      <td>100.0</td>\n",
       "      <td>40.5</td>\n",
       "      <td>71.0</td>\n",
       "    </tr>\n",
       "    <tr>\n",
       "      <th>4</th>\n",
       "      <td>17771927</td>\n",
       "      <td>female</td>\n",
       "      <td>27</td>\n",
       "      <td>154.0</td>\n",
       "      <td>58.0</td>\n",
       "      <td>10.0</td>\n",
       "      <td>81.0</td>\n",
       "      <td>39.8</td>\n",
       "      <td>35.0</td>\n",
       "    </tr>\n",
       "  </tbody>\n",
       "</table>\n",
       "</div>"
      ],
      "text/plain": [
       "    User_ID  Gender  Age  Height  Weight  Duration  Heart_Rate  Body_Temp  \\\n",
       "0  14733363    male   68   190.0    94.0      29.0       105.0       40.8   \n",
       "1  14861698  female   20   166.0    60.0      14.0        94.0       40.3   \n",
       "2  11179863    male   69   179.0    79.0       5.0        88.0       38.7   \n",
       "3  16180408  female   34   179.0    71.0      13.0       100.0       40.5   \n",
       "4  17771927  female   27   154.0    58.0      10.0        81.0       39.8   \n",
       "\n",
       "   Calories  \n",
       "0     231.0  \n",
       "1      66.0  \n",
       "2      26.0  \n",
       "3      71.0  \n",
       "4      35.0  "
      ]
     },
     "execution_count": 17,
     "metadata": {},
     "output_type": "execute_result"
    }
   ],
   "source": [
    "dataset=pd.read_csv('datasets/dataset.csv')\n",
    "dataset.head()"
   ]
  },
  {
   "cell_type": "code",
   "execution_count": 18,
   "metadata": {},
   "outputs": [
    {
     "data": {
      "text/plain": [
       "User_ID       0\n",
       "Gender        0\n",
       "Age           0\n",
       "Height        0\n",
       "Weight        0\n",
       "Duration      0\n",
       "Heart_Rate    0\n",
       "Body_Temp     0\n",
       "Calories      0\n",
       "dtype: int64"
      ]
     },
     "execution_count": 18,
     "metadata": {},
     "output_type": "execute_result"
    }
   ],
   "source": [
    "dataset.isnull().sum()"
   ]
  },
  {
   "cell_type": "markdown",
   "metadata": {},
   "source": [
    " Dataset has no NULL values, so no Imputation is required"
   ]
  },
  {
   "cell_type": "markdown",
   "metadata": {},
   "source": [
    "### **Dividing Data Set into Target and Training Datasets**"
   ]
  },
  {
   "cell_type": "code",
   "execution_count": 19,
   "metadata": {},
   "outputs": [
    {
     "data": {
      "text/plain": [
       "0    231.0\n",
       "1     66.0\n",
       "2     26.0\n",
       "3     71.0\n",
       "4     35.0\n",
       "Name: Calories, dtype: float64"
      ]
     },
     "execution_count": 19,
     "metadata": {},
     "output_type": "execute_result"
    }
   ],
   "source": [
    "X=dataset.drop(columns=['Calories'])\n",
    "targeted=dataset['Calories']\n",
    "targeted.head()\n"
   ]
  },
  {
   "cell_type": "markdown",
   "metadata": {},
   "source": [
    "**Creating a Column Transformer and Fitting it to Input Dataset**"
   ]
  },
  {
   "cell_type": "code",
   "execution_count": 20,
   "metadata": {},
   "outputs": [],
   "source": [
    "num_features = X.select_dtypes(exclude=\"object\").columns\n",
    "cat_features = ['Gender']\n",
    "\n",
    "Scaler_transformer = StandardScaler()\n",
    "Encoder_transformer = OneHotEncoder()\n",
    "\n",
    "preprocessor = ColumnTransformer(\n",
    "    [\n",
    "        (\"OneHoTEncoder\", Encoder_transformer,cat_features),\n",
    "         (\"StandardScaler\", Scaler_transformer,num_features),        \n",
    "    ]\n",
    ")\n"
   ]
  },
  {
   "cell_type": "code",
   "execution_count": 21,
   "metadata": {},
   "outputs": [
    {
     "data": {
      "text/plain": [
       "(15000, 9)"
      ]
     },
     "execution_count": 21,
     "metadata": {},
     "output_type": "execute_result"
    }
   ],
   "source": [
    "X=preprocessor.fit_transform(X)\n",
    "X.shape"
   ]
  },
  {
   "cell_type": "markdown",
   "metadata": {},
   "source": [
    "*Splitting into Training and Testing Datasets ,with 8:2 ratio*"
   ]
  },
  {
   "cell_type": "code",
   "execution_count": 22,
   "metadata": {},
   "outputs": [
    {
     "data": {
      "text/plain": [
       "((12000, 9), (3000, 9))"
      ]
     },
     "execution_count": 22,
     "metadata": {},
     "output_type": "execute_result"
    }
   ],
   "source": [
    "X_train, X_test, y_train, y_test = train_test_split(X,targeted,test_size=0.2,random_state=33)\n",
    "X_train.shape, X_test.shape"
   ]
  },
  {
   "cell_type": "markdown",
   "metadata": {},
   "source": [
    "Function to Calculate performance metrices for a list of Models"
   ]
  },
  {
   "cell_type": "code",
   "execution_count": 23,
   "metadata": {},
   "outputs": [],
   "source": [
    "def metrics_model(true, predicted):\n",
    "    mae = mean_absolute_error(true, predicted)\n",
    "    mse = mean_squared_error(true, predicted)\n",
    "    rmse = np.sqrt(mean_squared_error(true, predicted))\n",
    "    r2_square = r2_score(true, predicted)\n",
    "    return mae, rmse, r2_square"
   ]
  },
  {
   "cell_type": "markdown",
   "metadata": {},
   "source": [
    "## Training and Fitting a variety of models in the Input Data"
   ]
  },
  {
   "cell_type": "code",
   "execution_count": 24,
   "metadata": {},
   "outputs": [
    {
     "name": "stdout",
     "output_type": "stream",
     "text": [
      "Linear Regression\n",
      "Model performance for Training set\n",
      "- Root Mean Squared Error: 11.3966\n",
      "- Mean Absolute Error: 8.4207\n",
      "- R2 Score: 0.9669\n",
      "-x-x--x-x-x-x-x-x-x-x-x-x-x-x-x-x-x-x-\n",
      "Model performance for Test set\n",
      "a) Root Mean Squared Error: 10.9669\n",
      "b) Mean Absolute Error: 8.1968\n",
      "c) R2 Score: 0.9685\n",
      "___________________________________\n",
      "\n",
      "\n",
      "Lasso\n",
      "Model performance for Training set\n",
      "- Root Mean Squared Error: 12.3705\n",
      "- Mean Absolute Error: 9.1044\n",
      "- R2 Score: 0.9610\n",
      "-x-x--x-x-x-x-x-x-x-x-x-x-x-x-x-x-x-x-\n",
      "Model performance for Test set\n",
      "a) Root Mean Squared Error: 11.8802\n",
      "b) Mean Absolute Error: 8.8830\n",
      "c) R2 Score: 0.9630\n",
      "___________________________________\n",
      "\n",
      "\n",
      "Decision Tree\n",
      "Model performance for Training set\n",
      "- Root Mean Squared Error: 0.0000\n",
      "- Mean Absolute Error: 0.0000\n",
      "- R2 Score: 1.0000\n",
      "-x-x--x-x-x-x-x-x-x-x-x-x-x-x-x-x-x-x-\n",
      "Model performance for Test set\n",
      "a) Root Mean Squared Error: 5.2451\n",
      "b) Mean Absolute Error: 3.4457\n",
      "c) R2 Score: 0.9928\n",
      "___________________________________\n",
      "\n",
      "\n",
      "Ridge\n",
      "Model performance for Training set\n",
      "- Root Mean Squared Error: 11.3966\n",
      "- Mean Absolute Error: 8.4215\n",
      "- R2 Score: 0.9669\n",
      "-x-x--x-x-x-x-x-x-x-x-x-x-x-x-x-x-x-x-\n",
      "Model performance for Test set\n",
      "a) Root Mean Squared Error: 10.9670\n",
      "b) Mean Absolute Error: 8.1973\n",
      "c) R2 Score: 0.9685\n",
      "___________________________________\n",
      "\n",
      "\n",
      "K-Neighbors Regressor\n",
      "Model performance for Training set\n",
      "- Root Mean Squared Error: 5.5730\n",
      "- Mean Absolute Error: 4.0839\n",
      "- R2 Score: 0.9921\n",
      "-x-x--x-x-x-x-x-x-x-x-x-x-x-x-x-x-x-x-\n",
      "Model performance for Test set\n",
      "a) Root Mean Squared Error: 6.5093\n",
      "b) Mean Absolute Error: 4.7835\n",
      "c) R2 Score: 0.9889\n",
      "___________________________________\n",
      "\n",
      "\n",
      "Random Forest Regressor\n",
      "Model performance for Training set\n",
      "- Root Mean Squared Error: 1.1263\n",
      "- Mean Absolute Error: 0.6994\n",
      "- R2 Score: 0.9997\n",
      "-x-x--x-x-x-x-x-x-x-x-x-x-x-x-x-x-x-x-\n",
      "Model performance for Test set\n",
      "a) Root Mean Squared Error: 2.8790\n",
      "b) Mean Absolute Error: 1.8299\n",
      "c) R2 Score: 0.9978\n",
      "___________________________________\n",
      "\n",
      "\n",
      "AdaBoost Regressor\n",
      "Model performance for Training set\n",
      "- Root Mean Squared Error: 11.4925\n",
      "- Mean Absolute Error: 9.1990\n",
      "- R2 Score: 0.9663\n",
      "-x-x--x-x-x-x-x-x-x-x-x-x-x-x-x-x-x-x-\n",
      "Model performance for Test set\n",
      "a) Root Mean Squared Error: 11.3182\n",
      "b) Mean Absolute Error: 9.0612\n",
      "c) R2 Score: 0.9664\n",
      "___________________________________\n",
      "\n",
      "\n",
      "XGBRegressor\n",
      "Model performance for Training set\n",
      "- Root Mean Squared Error: 1.2731\n",
      "- Mean Absolute Error: 0.9280\n",
      "- R2 Score: 0.9996\n",
      "-x-x--x-x-x-x-x-x-x-x-x-x-x-x-x-x-x-x-\n",
      "Model performance for Test set\n",
      "a) Root Mean Squared Error: 2.2068\n",
      "b) Mean Absolute Error: 1.5539\n",
      "c) R2 Score: 0.9987\n",
      "___________________________________\n",
      "\n",
      "\n"
     ]
    }
   ],
   "source": [
    "\n",
    "models = {\n",
    "    \"Linear Regression\": LinearRegression(),\n",
    "    \"Lasso\": Lasso(),\n",
    "    \"Decision Tree\": DecisionTreeRegressor(),\n",
    "    \"Ridge\": Ridge(),\n",
    "    \"K-Neighbors Regressor\": KNeighborsRegressor(),\n",
    "    \"Random Forest Regressor\": RandomForestRegressor(),\n",
    "    \"AdaBoost Regressor\": AdaBoostRegressor(),\n",
    "    \"XGBRegressor\": XGBRegressor(), \n",
    "}\n",
    "model_list = []\n",
    "r2_list =[]\n",
    "\n",
    "for name,model_applied in models.items():\n",
    "    model_applied.fit(X_train, y_train) # Train model\n",
    "\n",
    "    # Make predictions\n",
    "    y_train_pred = model_applied.predict(X_train)\n",
    "    y_test_pred = model_applied.predict(X_test)\n",
    "    \n",
    "    # Evaluate Train and Test dataset\n",
    "    model_train_mae , model_train_rmse, model_train_r2 = metrics_model(y_train, y_train_pred)\n",
    "\n",
    "    model_test_mae , model_test_rmse, model_test_r2 = metrics_model(y_test, y_test_pred)\n",
    "\n",
    "    \n",
    "    print(name)\n",
    "    model_list.append(name)\n",
    "    \n",
    "    print('Model performance for Training set')\n",
    "    print(\"- Root Mean Squared Error: {:.4f}\".format(model_train_rmse))\n",
    "    print(\"- Mean Absolute Error: {:.4f}\".format(model_train_mae))\n",
    "    print(\"- R2 Score: {:.4f}\".format(model_train_r2))\n",
    "\n",
    "    print('-x-x--x-x-x-x-x-x-x-x-x-x-x-x-x-x-x-x-')\n",
    "    \n",
    "    print('Model performance for Test set')\n",
    "    print(\"a) Root Mean Squared Error: {:.4f}\".format(model_test_rmse))\n",
    "    print(\"b) Mean Absolute Error: {:.4f}\".format(model_test_mae))\n",
    "    print(\"c) R2 Score: {:.4f}\".format(model_test_r2))\n",
    "    r2_list.append(model_test_r2)\n",
    "    \n",
    "    print('_'*35)\n",
    "    print('\\n')"
   ]
  },
  {
   "cell_type": "markdown",
   "metadata": {},
   "source": [
    "**Plotting each model against its corresponding R² score**"
   ]
  },
  {
   "cell_type": "code",
   "execution_count": 25,
   "metadata": {},
   "outputs": [
    {
     "data": {
      "image/png": "[encoded data removed]",
      "text/plain": [
       "<Figure size 1200x600 with 1 Axes>"
      ]
     },
     "metadata": {},
     "output_type": "display_data"
    }
   ],
   "source": [
    "plt.figure(figsize=(12,6))\n",
    "bars=plt.bar(model_list,r2_list)\n",
    "plt.title(\"Model Name VS R² plot\")\n",
    "plt.ylabel(\"R² Score\")\n",
    "plt.xlabel(\"Model Names\")\n",
    "plt.xticks(rotation=30)\n",
    "for bar, r2_scores in zip(bars, r2_list):\n",
    "    plt.text(bar.get_x()+bar.get_width()/2, bar.get_height() + 0.01, f'{r2_scores:.4f}', ha='center', va='bottom', fontsize=10)"
   ]
  },
  {
   "cell_type": "markdown",
   "metadata": {},
   "source": [
    "**Creating a Dataframe to show Tabular Representation of Each model Against their R² score**"
   ]
  },
  {
   "cell_type": "code",
   "execution_count": 26,
   "metadata": {},
   "outputs": [
    {
     "data": {
      "text/html": [
       "<div>\n",
       "<style scoped>\n",
       "    .dataframe tbody tr th:only-of-type {\n",
       "        vertical-align: middle;\n",
       "    }\n",
       "\n",
       "    .dataframe tbody tr th {\n",
       "        vertical-align: top;\n",
       "    }\n",
       "\n",
       "    .dataframe thead th {\n",
       "        text-align: right;\n",
       "    }\n",
       "</style>\n",
       "<table border=\"1\" class=\"dataframe\">\n",
       "  <thead>\n",
       "    <tr style=\"text-align: right;\">\n",
       "      <th></th>\n",
       "      <th>Model Name</th>\n",
       "      <th>R² score</th>\n",
       "    </tr>\n",
       "  </thead>\n",
       "  <tbody>\n",
       "    <tr>\n",
       "      <th>7</th>\n",
       "      <td>XGBRegressor</td>\n",
       "      <td>0.998723</td>\n",
       "    </tr>\n",
       "    <tr>\n",
       "      <th>5</th>\n",
       "      <td>Random Forest Regressor</td>\n",
       "      <td>0.997826</td>\n",
       "    </tr>\n",
       "    <tr>\n",
       "      <th>2</th>\n",
       "      <td>Decision Tree</td>\n",
       "      <td>0.992784</td>\n",
       "    </tr>\n",
       "    <tr>\n",
       "      <th>4</th>\n",
       "      <td>K-Neighbors Regressor</td>\n",
       "      <td>0.988886</td>\n",
       "    </tr>\n",
       "    <tr>\n",
       "      <th>0</th>\n",
       "      <td>Linear Regression</td>\n",
       "      <td>0.968452</td>\n",
       "    </tr>\n",
       "    <tr>\n",
       "      <th>3</th>\n",
       "      <td>Ridge</td>\n",
       "      <td>0.968451</td>\n",
       "    </tr>\n",
       "    <tr>\n",
       "      <th>6</th>\n",
       "      <td>AdaBoost Regressor</td>\n",
       "      <td>0.966398</td>\n",
       "    </tr>\n",
       "    <tr>\n",
       "      <th>1</th>\n",
       "      <td>Lasso</td>\n",
       "      <td>0.962979</td>\n",
       "    </tr>\n",
       "  </tbody>\n",
       "</table>\n",
       "</div>"
      ],
      "text/plain": [
       "                Model Name  R² score\n",
       "7             XGBRegressor  0.998723\n",
       "5  Random Forest Regressor  0.997826\n",
       "2            Decision Tree  0.992784\n",
       "4    K-Neighbors Regressor  0.988886\n",
       "0        Linear Regression  0.968452\n",
       "3                    Ridge  0.968451\n",
       "6       AdaBoost Regressor  0.966398\n",
       "1                    Lasso  0.962979"
      ]
     },
     "execution_count": 26,
     "metadata": {},
     "output_type": "execute_result"
    }
   ],
   "source": [
    "resultdf=pd.DataFrame(list(zip(model_list,r2_list)),columns=['Model Name','R² score'])\n",
    "resultdf=resultdf.sort_values(by=[\"R² score\"],ascending=False)\n",
    "resultdf"
   ]
  },
  {
   "cell_type": "markdown",
   "metadata": {},
   "source": [
    "**Clearly , The R² score for XGB Regressor comes out to be the best Fit for the Model, with highest score of 0.998723**\n",
    "\n"
   ]
  },
  {
   "cell_type": "markdown",
   "metadata": {},
   "source": [
    "### Plotting Predicted and True Values for XGB Regressor on this Dataset"
   ]
  },
  {
   "cell_type": "code",
   "execution_count": 27,
   "metadata": {},
   "outputs": [
    {
     "data": {
      "text/plain": [
       "(3000,)"
      ]
     },
     "execution_count": 27,
     "metadata": {},
     "output_type": "execute_result"
    }
   ],
   "source": [
    "XGB=XGBRegressor()\n",
    "XGB=XGB.fit(X_train,y_train)\n",
    "XGB_XTest_pred=XGB.predict(X_test)\n",
    "XGB_XTest_pred.shape\n"
   ]
  },
  {
   "cell_type": "code",
   "execution_count": 28,
   "metadata": {},
   "outputs": [
    {
     "name": "stderr",
     "output_type": "stream",
     "text": [
      "C:\\Users\\Sushant\\AppData\\Local\\Temp\\ipykernel_11456\\1749153637.py:8: FutureWarning: \n",
      "\n",
      "`shade` is now deprecated in favor of `fill`; setting `fill=True`.\n",
      "This will become an error in seaborn v0.14.0; please update your code.\n",
      "\n",
      "  sns.kdeplot(XGB_XTest_pred - y_test, shade=True,ax=ax[1])\n"
     ]
    },
    {
     "data": {
      "image/png": "[encoded data removed]",
      "text/plain": [
       "<Figure size 1200x600 with 2 Axes>"
      ]
     },
     "metadata": {},
     "output_type": "display_data"
    }
   ],
   "source": [
    "\n",
    "fig,ax=plt.subplots(1,2,figsize=(12,6))\n",
    "\n",
    "\n",
    "ax[0].scatter(y_test,XGB_XTest_pred)\n",
    "ax[0].set_xlabel(\"Actual Value\")\n",
    "ax[0].set_ylabel(\"Predicted Value\")\n",
    "\n",
    "sns.kdeplot(XGB_XTest_pred - y_test, shade=True,ax=ax[1])\n",
    "ax[1].set_xlabel(\"Actual Value\")\n",
    "ax[1].set_ylabel(\"Predicted Value\")\n",
    "plt.show()\n"
   ]
  },
  {
   "cell_type": "markdown",
   "metadata": {},
   "source": [
    "### **Displaying Performance Metrices for XGB Regressor**"
   ]
  },
  {
   "cell_type": "code",
   "execution_count": 29,
   "metadata": {},
   "outputs": [
    {
     "name": "stdout",
     "output_type": "stream",
     "text": [
      "Mean Absolute Error : 1.5538801377515\n",
      "Mean Square Error :  4.8698631165797375\n",
      "Root Mean Square Error :  2.2067766349541897\n",
      "R² score :  0.9987226200333361\n"
     ]
    }
   ],
   "source": [
    "s=y_test\n",
    "z=XGB_XTest_pred    \n",
    "XGBmae = mean_absolute_error(s,z)\n",
    "XGBmse = mean_squared_error(s,z)\n",
    "XGBrmse = np.sqrt(mean_squared_error(s,z))\n",
    "XGBr2_square = r2_score(s,z)\n",
    "\n",
    "print(\"Mean Absolute Error :\",XGBmae)\n",
    "print(\"Mean Square Error : \",XGBmse)\n",
    "print(\"Root Mean Square Error : \",XGBrmse)\n",
    "print(\"R² score : \",XGBr2_square)"
   ]
  },
  {
   "cell_type": "markdown",
   "metadata": {},
   "source": [
    "## Therefore , we choose to train the Model Using XGB Regressor "
   ]
  }
 ],
 "metadata": {
  "kernelspec": {
   "display_name": "Projectvenc",
   "language": "python",
   "name": "python3"
  },
  "language_info": {
   "codemirror_mode": {
    "name": "ipython",
    "version": 3
   },
   "file_extension": ".py",
   "mimetype": "text/x-python",
   "name": "python",
   "nbconvert_exporter": "python",
   "pygments_lexer": "ipython3",
   "version": "3.12.4"
  }
 },
 "nbformat": 4,
 "nbformat_minor": 2
}
